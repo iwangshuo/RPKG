{
 "cells": [
  {
   "cell_type": "code",
   "execution_count": 1,
   "id": "f98ba127",
   "metadata": {},
   "outputs": [
    {
     "name": "stdout",
     "output_type": "stream",
     "text": [
      "0.8518518518518524\n",
      "0.8978622327790973\n",
      "0.7484745762711863\n"
     ]
    }
   ],
   "source": [
    "def kappa(a1,a2,b1,b2):\n",
    "    n = a1 + a2\n",
    "    t1 = min(a1, b1)\n",
    "    t2 = min(a2, b2)\n",
    "    po = (t1+t2)/n\n",
    "    pe = (a1*b1 + a2*b2)/(n*n)\n",
    "    k = (po-pe)/(1-pe)\n",
    "    print(k)\n",
    "    return None\n",
    "\n",
    "\n",
    "kappa(92,4,93,3)  # accf, 92\n",
    "kappa(315,29,320,24)  # accf, 315\n",
    "kappa(345,26,355,16)  # 371 accf, 340\n",
    "\n",
    "kappa(343,3,343,3)  # 346，accf, 340"
   ]
  },
  {
   "cell_type": "code",
   "execution_count": null,
   "id": "075e8340",
   "metadata": {},
   "outputs": [],
   "source": [
    "# package hardware 958 -> 96"
   ]
  },
  {
   "cell_type": "code",
   "execution_count": null,
   "id": "db4260fb",
   "metadata": {},
   "outputs": [],
   "source": [
    "# 344。371\n",
    "\n"
   ]
  },
  {
   "cell_type": "code",
   "execution_count": 36,
   "id": "e2102122",
   "metadata": {},
   "outputs": [
    {
     "data": {
      "text/plain": [
       "0.9299191374663073"
      ]
     },
     "execution_count": 36,
     "metadata": {},
     "output_type": "execute_result"
    }
   ],
   "source": [
    "345/371"
   ]
  },
  {
   "cell_type": "code",
   "execution_count": null,
   "id": "25aa32a2",
   "metadata": {},
   "outputs": [],
   "source": [
    "# package function 3327 -> 344"
   ]
  },
  {
   "cell_type": "code",
   "execution_count": null,
   "id": "8279dbb9",
   "metadata": {},
   "outputs": [],
   "source": []
  },
  {
   "cell_type": "code",
   "execution_count": null,
   "id": "873122e7",
   "metadata": {},
   "outputs": [],
   "source": []
  },
  {
   "cell_type": "code",
   "execution_count": null,
   "id": "5bcf58ba",
   "metadata": {},
   "outputs": [],
   "source": [
    "# package characteristics 10405 -> 371"
   ]
  }
 ],
 "metadata": {
  "kernelspec": {
   "display_name": "Python 3 (ipykernel)",
   "language": "python",
   "name": "python3"
  },
  "language_info": {
   "codemirror_mode": {
    "name": "ipython",
    "version": 3
   },
   "file_extension": ".py",
   "mimetype": "text/x-python",
   "name": "python",
   "nbconvert_exporter": "python",
   "pygments_lexer": "ipython3",
   "version": "3.7.16"
  }
 },
 "nbformat": 4,
 "nbformat_minor": 5
}
