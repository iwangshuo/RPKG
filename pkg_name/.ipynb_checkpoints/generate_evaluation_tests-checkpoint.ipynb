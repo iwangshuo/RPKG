{
 "cells": [
  {
   "cell_type": "code",
   "execution_count": 13,
   "id": "51d06470",
   "metadata": {},
   "outputs": [
    {
     "data": {
      "text/plain": [
       "0.8518518518518524"
      ]
     },
     "execution_count": 13,
     "metadata": {},
     "output_type": "execute_result"
    }
   ],
   "source": [
    "def kappa(a1,a2,b1,b2):\n",
    "    n = a1 + a2\n",
    "    t1 = min(a1, b1)\n",
    "    t2 = min(a2, b2)\n",
    "    po = (t1+t2)/n\n",
    "    pe = (a1*b1 + a2*b2)/(n*n)\n",
    "    k = (po-pe)/(1-pe)\n",
    "    print(k)\n",
    "    return None\n",
    "\n",
    "\n",
    "kappa(92,4,93,3)"
   ]
  },
  {
   "cell_type": "code",
   "execution_count": null,
   "id": "328269d8",
   "metadata": {},
   "outputs": [],
   "source": [
    "# package name 128 -> 96"
   ]
  },
  {
   "cell_type": "code",
   "execution_count": null,
   "id": "5e2683fa",
   "metadata": {},
   "outputs": [],
   "source": []
  },
  {
   "cell_type": "code",
   "execution_count": null,
   "id": "396515d1",
   "metadata": {},
   "outputs": [],
   "source": []
  },
  {
   "cell_type": "code",
   "execution_count": null,
   "id": "09d4ea23",
   "metadata": {},
   "outputs": [],
   "source": [
    "# package function 3327 -> 344"
   ]
  },
  {
   "cell_type": "code",
   "execution_count": null,
   "id": "898c0d53",
   "metadata": {},
   "outputs": [],
   "source": []
  },
  {
   "cell_type": "code",
   "execution_count": null,
   "id": "903f7ad0",
   "metadata": {},
   "outputs": [],
   "source": []
  },
  {
   "cell_type": "code",
   "execution_count": null,
   "id": "5fb67cf4",
   "metadata": {},
   "outputs": [],
   "source": [
    "# package characteristics 10405 -> 371"
   ]
  }
 ],
 "metadata": {
  "kernelspec": {
   "display_name": "Python 3 (ipykernel)",
   "language": "python",
   "name": "python3"
  },
  "language_info": {
   "codemirror_mode": {
    "name": "ipython",
    "version": 3
   },
   "file_extension": ".py",
   "mimetype": "text/x-python",
   "name": "python",
   "nbconvert_exporter": "python",
   "pygments_lexer": "ipython3",
   "version": "3.7.16"
  }
 },
 "nbformat": 4,
 "nbformat_minor": 5
}
