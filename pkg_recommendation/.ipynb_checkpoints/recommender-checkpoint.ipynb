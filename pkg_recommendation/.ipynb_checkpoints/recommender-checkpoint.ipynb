{
 "cells": [
  {
   "cell_type": "code",
   "execution_count": null,
   "id": "a4ccf88f",
   "metadata": {},
   "outputs": [],
   "source": [
    "# input"
   ]
  },
  {
   "cell_type": "code",
   "execution_count": null,
   "id": "3d22262a",
   "metadata": {},
   "outputs": [],
   "source": [
    "# features from input\n",
    "\n",
    "# to match entity of hardware device\n",
    "region_word = []\n",
    "\n",
    "# to match Feature\n",
    "feature_word = []\n",
    "\n",
    "repo = []\n",
    "\n",
    "launch = ''\n",
    "\n",
    "srv = ''\n",
    "\n",
    "action = ''\n",
    "\n",
    "node = ''\n",
    "\n",
    "msg = ''\n",
    "\n",
    "robot_tag = []\n",
    "\n"
   ]
  },
  {
   "cell_type": "code",
   "execution_count": 31,
   "id": "b37c462f",
   "metadata": {},
   "outputs": [],
   "source": [
    "import os\n",
    "import csv\n",
    "from py2neo import Graph, Node, Relationship\n",
    "# g = Graph(\"http://localhost:7474\", user=\"neo4j\", password=\"/\")\n",
    "\n",
    "\n",
    "g = Graph(\"bolt://localhost:7687\", user=\"neo4j\", password=\"/\")\n",
    "# g=Graph(\"bolt://localhost:7687\",auth=(\"neo4j\",\"/\"))\n",
    "from py2neo import RelationshipMatcher, NodeMatcher\n",
    "relation_matcher = RelationshipMatcher(g)\n",
    "node_matcher = NodeMatcher(g)"
   ]
  },
  {
   "cell_type": "code",
   "execution_count": 56,
   "id": "a1c92f92",
   "metadata": {},
   "outputs": [],
   "source": [
    "def match_pkg_by_file(file_name, file_type):\n",
    "    pkg_list = []\n",
    "    \n",
    "    answer = g.run(\"MATCH (p:Package)- [rel:include] -> (l:%s {name:\\\"%s\\\"}) RETURN p.package_name\"%(file_type, file_name)).data()\n",
    "    for p in answer:\n",
    "        pkg_list.append(p['p.package_name'])\n",
    "#         print(len(answer))\n",
    "    return pkg_list\n",
    "            \n",
    "    \n",
    "    "
   ]
  },
  {
   "cell_type": "code",
   "execution_count": 57,
   "id": "a7fe7c7f",
   "metadata": {},
   "outputs": [
    {
     "name": "stdout",
     "output_type": "stream",
     "text": [
      "['mrpt_map', 'mrpt_localization', 'nfc_ros', 'fsrobo_r_moveit_config', 'svenzva_moveit', 'abb_irb2400_moveit_config', 'abb_irb6640_moveit_config', 'rqt_py_trees', 'prbt_moveit_config', 'capabilities', 'x_demo', 'motoman_mpl80_moveit_config', 'motoman_sia5d_moveit_config', 'motoman_csda10f_moveit_config', 'sciurus17_moveit_config', 'fetch_moveit_config', 'op3_demo', 'hironx_moveit_config', 'abb_irb1200_7_70_moveit_config', 'abb_irb1600_6_12_moveit_config', 'abb_irb120_moveit_config', 'abb_irb1200_5_90_moveit_config', 'abb_irb120t_moveit_config', 'nextage_moveit_config', 'staubli_rx160_moveit_config', 'seed_r7_samples', 'seed_r7_typeg2_arm_moveit_config', 'seed_r7_typef_moveit_config', 'seed_r7_typeg_moveit_config', 'seed_r7_typeg_arm_moveit_config', 'cob_moveit_bringup', 'panda_moveit_config', 'rviz_visual_tools', 'rb1_dual_ur3_moveit_config', 'roch_capabilities', 'rv7fl_moveit_config', 'rv4fl_moveit_config', 'niryo_one_moveit_config', 'moveit_visual_tools', 'motoman_ma2010_moveit_config', 'motoman_ms210_moveit_config', 'motoman_sia20d_moveit_config', 'motoman_sda10f_moveit_config', 'turtlebot_arm_moveit_config', 'moveit_resources_prbt_moveit_config', 'moveit_resources_dual_panda_moveit_config', 'moveit_resources_panda_moveit_config', 'moveit_resources_fanuc_moveit_config', 'open_manipulator_with_tb3_waffle_pi_moveit', 'open_manipulator_with_tb3_waffle_moveit', 'open_manipulator_moveit', 'tra1_moveit_config', 'xbot_navi', 'romeo_moveit_config', 'neonavigation_launch', 'tuw_multi_robot_demo', 'nao_moveit_config', 'jsk_libfreenect2', 'summit_xl_j2s6s200_moveit_config', 'summit_xl_j2s6s300_moveit_config', 'summit_xl_j2s7s300_moveit_config', 'summit_xl_j2n6s200_moveit_config', 'ds4_driver', 'xbot_navi', 'tuw_checkerboard', 'pepper_moveit_config', 'leap_motion', 'ur3_moveit_config', 'ur3_e_moveit_config', 'ur5_e_moveit_config', 'ur10_e_moveit_config', 'ur10_moveit_config', 'ur5_moveit_config', 'mqtt_bridge', 'sr_multi_moveit_config', 'sr_box_ur10_moveit_config', 'sr_moveit_hand_config', 'crane_x7_moveit_config', 'crane_x7_bringup', 'fanuc_lrmate200ib3l_moveit_config', 'fanuc_m16ib20_moveit_config', 'fanuc_m10ia_moveit_config', 'fanuc_m6ib6s_moveit_config', 'fanuc_m6ib_moveit_config', 'fanuc_lrmate200ic5h_moveit_config', 'fanuc_lrmate200ic_moveit_config', 'fanuc_m20ia10l_moveit_config', 'fanuc_lrmate200ic5l_moveit_config', 'fanuc_m430ia2p_moveit_config', 'fanuc_lrmate200i_moveit_config', 'fanuc_m430ia2f_moveit_config', 'fanuc_m20ib25_moveit_config', 'fanuc_lrmate200ib_moveit_config', 'fanuc_cr7ial_moveit_config', 'fanuc_r1000ia80f_moveit_config', 'fanuc_cr7ia_moveit_config', 'fanuc_m20ia_moveit_config', 'vs060_moveit_config', 'pr2_moveit_config', 'dual_xarm6_moveit_config', 'lite6_moveit_config', 'xarm6_moveit_config', 'xarm7_gripper_moveit_config', 'xarm5_gripper_moveit_config', 'xarm5_moveit_config', 'xarm7_moveit_config', 'xarm7_vacuum_gripper_moveit_config', 'xarm5_vacuum_gripper_moveit_config', 'xarm6_vacuum_gripper_moveit_config', 'xarm6_gripper_moveit_config', 'fanuc_lrmate200id7l_moveit_config', 'fanuc_lrmate200id_moveit_config', 'khi_rs007l_moveit_config', 'khi_rs025n_moveit_config', 'khi_rs013n_moveit_config', 'khi_duaro_moveit_config', 'khi_rs080n_moveit_config', 'khi_rs007n_moveit_config', 'fetch_gazebo_demo']\n"
     ]
    }
   ],
   "source": [
    "launch = 'demo.launch'\n",
    "pkgs = match_pkg_by_file(launch, 'Launch')\n",
    "print(pkgs)"
   ]
  },
  {
   "cell_type": "code",
   "execution_count": 58,
   "id": "555e4f77",
   "metadata": {},
   "outputs": [
    {
     "name": "stdout",
     "output_type": "stream",
     "text": [
      "['svenzva_msgs', 'rail_manipulation_msgs']\n"
     ]
    }
   ],
   "source": [
    "action = 'Gripper.action'\n",
    "pkgs = match_pkg_by_file(action, 'Action')\n",
    "print(pkgs)"
   ]
  },
  {
   "cell_type": "code",
   "execution_count": 59,
   "id": "a6e57781",
   "metadata": {},
   "outputs": [],
   "source": [
    "# 'word1':98, 'word2':96, 'word3':92, ...\n",
    "# probably, there are several pkgs for one device(word#n)\n",
    "# region_type : robot/sensor\n",
    "def match_pkg_by_region_word(region_word, region_type):\n",
    "    pkg_list = []\n",
    "    \n",
    "    answer = g.run(\"MATCH (p:Package)- [rel:apply_to] -> (l:%s {name:\\\"%s\\\"}) RETURN p.package_name\"%(region_type, region_word)).data()\n",
    "    for p in answer:\n",
    "        pkg_list.append(p['p.package_name'])\n",
    "#         print(len(answer))\n",
    "    return pkg_list\n",
    "            "
   ]
  },
  {
   "cell_type": "code",
   "execution_count": 60,
   "id": "a80254ab",
   "metadata": {},
   "outputs": [
    {
     "name": "stdout",
     "output_type": "stream",
     "text": [
      "['rospeex_audiomonitor', 'rospeex_core', 'rospeex_if', 'rospeex_launch', 'rospeex_msgs', 'rospeex_samples', 'rospeex_webaudiomonitor', 'rospeex']\n"
     ]
    }
   ],
   "source": [
    "sensor = 'rospeex'\n",
    "pkgs = match_pkg_by_region_word(sensor, 'Sensor')\n",
    "print(pkgs)"
   ]
  },
  {
   "cell_type": "code",
   "execution_count": 66,
   "id": "e7ef9ab5",
   "metadata": {},
   "outputs": [],
   "source": [
    "#given a sentence as input, now we need to extract region words in it.\n",
    "import pandas as pd\n",
    "import numpy as np\n",
    "\n",
    "# remove \"up\" and \"down\"\n",
    "stopwords = ['i', 'me', 'my', 'myself', 'we', 'our', 'ours', 'ourselves', 'you', 'your', 'yours', 'yourself', 'yourselves', 'he', 'him', 'his', 'himself', 'she', 'her', 'hers', 'herself', 'it', 'its', 'itself', 'they', 'them', 'their', 'theirs', 'themselves', 'what', 'which', 'who', 'whom', 'this', 'that', 'these', 'those', 'am', 'is', 'are', 'was', 'were', 'be', 'been', 'being', 'have', 'has', 'had', 'having', 'do', 'does', 'did', 'doing', 'a', 'an', 'the', 'and', 'but', 'if', 'or', 'because', 'as', 'until', 'while', 'of', 'at', 'by', 'for', 'with', 'about', 'against', 'between', 'into', 'through', 'during', 'before', 'after', 'above', 'below', 'to', 'from', 'in', 'out', 'on', 'off', 'over', 'under', 'again', 'further', 'then', 'once', 'here', 'there', 'when', 'where', 'why', 'how', 'all', 'any', 'both', 'each', 'few', 'more', 'most', 'other', 'some', 'such', 'no', 'nor', 'not', 'only', 'own', 'same', 'so', 'than', 'too', 'very', 's', 't', 'can', 'will', 'just', 'don', 'should', 'now', 'd', 'll', 'm', 'o', 're', 've', 'y', 'ain', 'aren', 'couldn', 'didn', 'doesn', 'hadn', 'hasn', 'haven', 'isn', 'ma', 'mightn', 'mustn', 'needn', 'shan', 'shouldn', 'wasn', 'weren', 'won', 'wouldn']\n",
    "for w in ['!',',','.','?','','s','\\n','\\t', '(', ')']:\n",
    "    stopwords.append(w)\n",
    "\n",
    "def remove_func(phras):\n",
    "    res = phras.strip(',')\n",
    "    res = phras.strip('.')\n",
    "#     res = res.strip('(')\n",
    "#     res = res.strip(')')\n",
    "    return res\n",
    "\n",
    "\n",
    "def extract_keywords(raw_sentence):\n",
    "    # deal with the text\n",
    "    sentence = []\n",
    "    raw_sentence = raw_sentence.strip('-')\n",
    "    raw_sentence = raw_sentence.strip('.')\n",
    "    tokens = raw_sentence.split()\n",
    "    phrase_start = None\n",
    "    for word in tokens:\n",
    "        word = remove_func(word)\n",
    "        if len(word) != 1 and (word.lower() not in stopwords):\n",
    "            if phrase_start is None:\n",
    "                phrase_start = word\n",
    "            else:\n",
    "                phrase_start += f' {word}'\n",
    "        elif phrase_start:\n",
    "\n",
    "            sentence.append(phrase_start)\n",
    "            phrase_start = None\n",
    "        else:\n",
    "            continue\n",
    "    if phrase_start:\n",
    "        sentence.append(phrase_start)\n",
    "\n",
    "#     keywords =  ','.join(sentence)\n",
    "    return sentence\n",
    "\n"
   ]
  },
  {
   "cell_type": "code",
   "execution_count": 67,
   "id": "c0a43bc1",
   "metadata": {
    "scrolled": true
   },
   "outputs": [
    {
     "name": "stdout",
     "output_type": "stream",
     "text": [
      "['use turtlebot2', 'realsense camera', 'mapping', 'gmapping algorithm']\n"
     ]
    }
   ],
   "source": [
    "# test: extract keywords from a given query sentence from user\n",
    "sentence = \"use turtlebot2 with realsense camera to do mapping by gmapping algorithm\"\n",
    "\n",
    "keywords = extract_keywords(sentence)\n",
    "\n",
    "print(keywords)\n"
   ]
  },
  {
   "cell_type": "code",
   "execution_count": 72,
   "id": "99017df6",
   "metadata": {
    "scrolled": true
   },
   "outputs": [
    {
     "name": "stdout",
     "output_type": "stream",
     "text": [
      "[('turtlebot2', 95), ('bo', 90)]\n",
      "[('reem-c', 60), ('caster', 60)]\n",
      "[('thormang', 53), ('astec pelican and hummingbird', 51)]\n",
      "[('ari', 60), ('quori', 54)]\n",
      "[('motion analysis motion capture system', 49), ('chip robotics imu sensor (bno080)', 49)]\n",
      "[('roboception rc_visard stereo camera (onboard imu, pose estimation and slam)', 86), ('zed stereo camera tracking', 86)]\n",
      "[('mesa imaging swissranger devices (3000/4000/4500)', 64), ('cmucam_png', 59)]\n",
      "[('vrpn', 45), ('pmad', 45)]\n"
     ]
    }
   ],
   "source": [
    "# use fuzzy match to region words\n",
    "from fuzzywuzzy import fuzz\n",
    "from fuzzywuzzy import process\n",
    "\n",
    "def extract_region_word(keywords):\n",
    "    # identify robot entity\n",
    "    cur_dir = '/Users/wshuo/PycharmProjects/MyKnowledgeGraph'\n",
    "    robot_path = os.path.join(cur_dir, 'data/robots.txt')\n",
    "    robot_wds = [i.strip().lower() for i in open(robot_path)]\n",
    "    robot_wds = list(set(robot_wds))\n",
    "    \n",
    "    for word in keywords:\n",
    "        fuzzy_match_results = process.extract(word, robot_wds, limit=2)\n",
    "#         match_region = fuzzy_match_results[0]\n",
    "        print(fuzzy_match_results)\n",
    "    pass\n",
    "\n",
    "    sensor_path = os.path.join(cur_dir, 'data/sensors.txt')\n",
    "    sensor_wds = [i.strip().lower() for i in open(sensor_path)]\n",
    "    sensor_wds = list(set(sensor_wds))\n",
    "    \n",
    "    for word in keywords:\n",
    "        fuzzy_match_results = process.extract(word, sensor_wds, limit=2)\n",
    "#         match_region = fuzzy_match_results[0]\n",
    "        print(fuzzy_match_results)\n",
    "    pass\n",
    "\n",
    "\n",
    "\n",
    "extract_region_word(keywords)\n",
    "        \n",
    "# remove \"bo\" from the dictionary of robot and sensor\n",
    "\n",
    "\n",
    "# [('turtlebot2', 95), ('bo', 90)]\n",
    "# [('reem-c', 60), ('caster', 60)]\n",
    "# [('thormang', 53), ('astec pelican and hummingbird', 51)]\n",
    "# [('ari', 60), ('quori', 54)]\n",
    "\n",
    "\n",
    "\n",
    "\n"
   ]
  },
  {
   "cell_type": "code",
   "execution_count": 73,
   "id": "221f62c6",
   "metadata": {
    "scrolled": true
   },
   "outputs": [
    {
     "name": "stdout",
     "output_type": "stream",
     "text": [
      "88\n"
     ]
    }
   ],
   "source": [
    "word1 = 'realsense camera'\n",
    "word2 = 'Intel® RealSense™ camera'\n",
    "\n",
    "score = fuzz.partial_ratio(word1, word2)\n",
    "print(score)"
   ]
  },
  {
   "cell_type": "code",
   "execution_count": 79,
   "id": "852e5b43",
   "metadata": {},
   "outputs": [
    {
     "name": "stdout",
     "output_type": "stream",
     "text": [
      "[]\n"
     ]
    }
   ],
   "source": [
    "robot = 'TurtleBot2'\n",
    "pkgs = match_pkg_by_region_word(robot, 'Robot')\n",
    "print(pkgs)"
   ]
  },
  {
   "cell_type": "code",
   "execution_count": 76,
   "id": "8e0f0154",
   "metadata": {},
   "outputs": [
    {
     "name": "stdout",
     "output_type": "stream",
     "text": [
      "[]\n"
     ]
    }
   ],
   "source": [
    "robot = 'realsense camera'\n",
    "pkgs = match_pkg_by_region_word(robot, 'Sensor')\n",
    "print(pkgs)"
   ]
  },
  {
   "cell_type": "code",
   "execution_count": 81,
   "id": "bce543a3",
   "metadata": {},
   "outputs": [
    {
     "name": "stdout",
     "output_type": "stream",
     "text": [
      "['turtlebot3_autorace_construction_camera', 'turtlebot3_msgs', 'turtlebot_create_desktop', 'turtlebot_dashboard', 'turtlebot_interactions', 'turtlebot_interactive_markers', 'turtlebot_rviz_launchers', 'turtlebot_msgs', 'turtlebot3', 'turtlebot3_bringup', 'turtlebot3_description', 'turtlebot3_example', 'turtlebot3_navigation', 'turtlebot3_slam', 'turtlebot3_teleop', 'turtlebot_arm', 'turtlebot_arm_block_manipulation', 'turtlebot_arm_bringup', 'turtlebot_arm_description', 'turtlebot_arm_ikfast_plugin', 'turtlebot_arm_kinect_calibration', 'turtlebot_arm_moveit_config', 'turtlebot_arm_moveit_demos', 'turtlebot_arm_object_manipulation', 'turtle_actionlib', 'turtle_tf', 'turtle_tf2', 'turtlebot_actions', 'turtlebot_apps', 'turtlebot_calibration', 'turtlebot_create', 'turtlebot_follower', 'turtlebot_navigation', 'turtlebot_rapps', 'turtlebot_gazebo', 'turtlebot_simulator', 'turtlebot_stage', 'turtlebot_stdr', 'turtlebot3_applications_msgs', 'turtlebot3_autorace', 'turtlebot3_autorace_camera', 'turtlebot3_autorace_control', 'turtlebot3_autorace_core', 'turtlebot3_autorace_detect', 'turtlebot', 'turtlebot_bringup', 'turtlebot_capabilities', 'turtlebot_description', 'turtlebot_teleop', 'turtlebot_loadout_kha1', 'turtlebot3_applications', 'turtlebot3_automatic_parking', 'turtlebot3_automatic_parking_vision', 'turtlebot3_follow_filter', 'turtlebot3_follower', 'turtlebot3_panorama', 'rt_usb_9axisimu_driver', 'turtlebot3_autorace_2020', 'turtlebot3_autorace_construction', 'turtlebot3_simulations', 'turtlebot3_gazebo', 'turtlebot3_fake', 'turtlebot3_autorace_tunnel_detect', 'turtlebot3_autorace_tunnel_core', 'turtlebot3_autorace_tunnel_control', 'turtlebot3_autorace_tunnel_camera', 'turtlebot3_autorace_tunnel', 'turtlebot3_autorace_traffic_light_detect', 'turtlebot3_autorace_traffic_light_core', 'turtlebot3_autorace_traffic_light_control', 'turtlebot3_autorace_traffic_light_camera', 'turtlebot3_autorace_traffic_light', 'turtlebot3_autorace_parking_detect', 'turtlebot3_autorace_parking_core', 'turtlebot3_autorace_parking_control', 'turtlebot3_autorace_parking_camera', 'turtlebot3_autorace_parking', 'turtlebot3_autorace_msgs', 'turtlebot3_autorace_level_crossing_detect', 'turtlebot3_autorace_level_crossing_core', 'turtlebot3_autorace_level_crossing_control', 'turtlebot3_autorace_level_crossing_camera', 'turtlebot3_autorace_level_crossing', 'turtlebot3_autorace_intersection_detect', 'turtlebot3_autorace_intersection_core', 'turtlebot3_autorace_intersection_control', 'turtlebot3_autorace_intersection_camera', 'turtlebot3_autorace_intersection', 'turtlebot3_autorace_construction_detect', 'turtlebot3_autorace_construction_core', 'turtlebot3_autorace_construction_control']\n"
     ]
    }
   ],
   "source": [
    "robot = 'turtlebot3'\n",
    "pkgs = match_pkg_by_region_word(robot, 'Robot')\n",
    "print(pkgs)"
   ]
  },
  {
   "cell_type": "code",
   "execution_count": 82,
   "id": "4dea550c",
   "metadata": {},
   "outputs": [
    {
     "name": "stdout",
     "output_type": "stream",
     "text": [
      "[('ari', 72), ('ar10', 60)]\n",
      "[('rplidar a1/2/3/s1/s2 laser(c++)', 90), ('rplidar 360 laser scanner driver(python)', 90)]\n"
     ]
    }
   ],
   "source": [
    "keywords = ['rplidar']\n",
    "extract_region_word(keywords)"
   ]
  },
  {
   "cell_type": "code",
   "execution_count": 84,
   "id": "a1aa9db6",
   "metadata": {},
   "outputs": [
    {
     "name": "stdout",
     "output_type": "stream",
     "text": [
      "['rplidar_ros']\n"
     ]
    }
   ],
   "source": [
    "robot = 'rplidar 360 laser scanner driver(python)'\n",
    "pkgs = match_pkg_by_region_word(robot, 'Sensor')\n",
    "print(pkgs)"
   ]
  },
  {
   "cell_type": "code",
   "execution_count": null,
   "id": "331f35b2",
   "metadata": {},
   "outputs": [],
   "source": []
  }
 ],
 "metadata": {
  "kernelspec": {
   "display_name": "Python 3 (ipykernel)",
   "language": "python",
   "name": "python3"
  },
  "language_info": {
   "codemirror_mode": {
    "name": "ipython",
    "version": 3
   },
   "file_extension": ".py",
   "mimetype": "text/x-python",
   "name": "python",
   "nbconvert_exporter": "python",
   "pygments_lexer": "ipython3",
   "version": "3.7.16"
  }
 },
 "nbformat": 4,
 "nbformat_minor": 5
}
