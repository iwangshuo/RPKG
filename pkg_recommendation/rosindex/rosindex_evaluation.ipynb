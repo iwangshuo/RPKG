{
 "cells": [
  {
   "cell_type": "code",
   "execution_count": 1,
   "id": "9ee78663",
   "metadata": {},
   "outputs": [],
   "source": [
    "from bs4 import BeautifulSoup\n",
    "import csv\n",
    "import requests"
   ]
  },
  {
   "cell_type": "code",
   "execution_count": 7,
   "id": "e32a62fd",
   "metadata": {},
   "outputs": [
    {
     "name": "stdout",
     "output_type": "stream",
     "text": [
      "b'<!DOCTYPE html>\\n<html>\\n\\n  <head>\\n    <meta charset=\"utf-8\">\\n    <meta name=\"viewport\" content=\"width=device-width initial-scale=1\" />\\n    <meta http-equiv=\"X-UA-Compatible\" content=\"IE=edge\">\\n\\n    <title>404: Not Found</title>\\n    <meta name=\"description\" content=\"a community-maintained index of robotics software\\n\">\\n\\n    \\n    <link rel=\"canonical\" href=\"https://index.ros.org/404.html\">\\n    \\n\\n    \\n\\n    <link rel=\"stylesheet\" type=\"text/css\" href=\"/bootstrap/css/bootstrap.min.css\"/>\\n    <link rel=\"stylesheet\" href=\"/css/main.css\">\\n    <link rel=\"stylesheet\" href=\"/css/sphinx.css\">\\n    \\n\\n    \\n\\n    <script type=\"text/javascript\" src=/js/jquery.js></script>\\n    <script src=/bootstrap/js/bootstrap.min.js type=\"text/javascript\"></script>\\n    <script src=/js/jquery-cookie-1.4.1/jquery.cookie.js type=\"text/javascript\"></script>\\n\\n    \\n<!-- Google tag (gtag.js) -->\\n<script async src=\"https://www.googletagmanager.com/gtag/js?id=G-EVD5Z6G6NH\"></script>\\n<script>\\n  window.dataLayer = window.dataLayer || [];\\n  function gtag(){dataLayer.push(arguments);}\\n  gtag(\\'js\\', new Date());\\n\\n  gtag(\\'config\\', \\'G-EVD5Z6G6NH\\');\\n</script>\\n\\n    <script type=\"text/javascript\" src=/js/toc.js></script>\\n\\n    <script src=/js/distro_switch.js></script>\\n  </head>\\n\\n  <body>\\n\\n    <header class=\"site-header\">\\n\\n  <div class=\"wrapper\">\\n    <div class=\"container-fluid\" style=\"margin-bottom: 10px\">\\n\\n      <div align=\"center\">\\n        <br>\\n        <table id=\"topnav-table\">\\n          <tr>\\n            <td valign=\"middle\">\\n                ROS Resources:\\n              <a href=\"http://wiki.ros.org/\">Documentation</a>\\n              |\\n              <a href=\"http://wiki.ros.org/Support\">Support</a>\\n              |\\n              <a href=\"http://discourse.ros.org/\">Discussion Forum</a>\\n              |\\n              <a href=\"http://status.ros.org/\">Service Status</a>\\n              |\\n              <a href=\"http://answers.ros.org/\">Q&A answers.ros.org</a>\\n            </td>\\n          </tr>\\n        </table> <!-- topnav-table -->\\n      </div>\\n\\n      <div class=\"row\">\\n\\n        <div class=\"col-sm-12 col-md-9\" style=\"margin-top: 8px\">\\n          <div class=\"row\">\\n            <!-- title -->\\n            <div class=\"col-xs-12 col-sm-3 col-md-3\" style=\"white-space:nowrap;\">\\n              <a class=\"site-title\" href=\"/\">ROS Index</a>\\n            </div>\\n\\n            <!-- main links -->\\n            <div class=\"col-xs-12 col-sm-9 col-md-9 text-right\">\\n              <ul class=\"list-inline\" style=\"margin-bottom:0px;\">\\n                <li><a class=\"btn btn-link\" href=\"/about\">About</a></li>\\n\\n                <li class=\"dropdown\">\\n                  <button id=\"dLabel\" class=\"btn btn-link\" type=\"button\" data-toggle=\"dropdown\" aria-haspopup=\"true\" aria-expanded=\"false\">\\n                    Index <span class=\"caret\"></span>\\n                  </button>\\n                  <ul class=\"dropdown-menu\" role=\"menu\" aria-labelledby=\"dLabel\">\\n                    <li><a href=\"/packages/page/1/time/\">Package List</a></li>\\n                    <li><a href=\"/repos/page/1/time/\">Repository List</a></li>\\n\\n                    <li class=\"hidden\" class=\"divider\"></li>\\n\\n\\n                    <li class=\"hidden\"><a href=\"/srvs/\">Nodes</a></li>\\n                    <li class=\"hidden\"><a href=\"/msgs/\">Messages</a></li>\\n                    <li class=\"hidden\"><a href=\"/srvs/\">Services</a></li>\\n                    <li class=\"hidden\"><a href=\"/srvs/\">Plugins</a></li>\\n\\n                    <li class=\"divider\"></li>\\n\\n                    <li><a href=\"/deps/\">System Dependencies</a></li>\\n                  </ul>\\n                </li>\\n\\n                <li><a class=\"btn btn-link\" href=\"/contribute\">Contribute</a></li>\\n                <li><a class=\"btn btn-link\" href=\"/stats\">Stats</a></li>\\n              </ul>\\n\\n            </div>\\n          </div>\\n        </div>\\n\\n        <!-- searchbox -->\\n        <div class=\"col-sm-12 col-md-3\" style=\"margin-top: 12px\">\\n          <form id=\"top-searchbox\" action=\"/search/\" role=\"form\" method=\"get\">\\n            <div class=\"input-group input-group-sm\">\\n              <input type=\"text\" class=\"form-control\" name=\"term\" placeholder=\"Search ROS\">\\n              <span class=\"input-group-btn\">\\n                <button class=\"btn btn-default btn-sm\" title=\"Search ROS\" type=\"submit\">\\n                  <span class=\"glyphicon glyphicon-search\"></span>\\n                </button>\\n                <a href=\"https://lunrjs.com/guides/searching.html\"\\n                   title=\"Help to Search\" class=\"btn btn-default btn-sm\">\\n                  <span class=\"glyphicon glyphicon-question-sign\"></span>\\n                </a>\\n              </span>\\n            </div>\\n          </form>\\n        </div>\\n      </div>\\n    </div>\\n\\n    <!--\\n    <a class=\"site-title\" href=\"/\">ROS Index</a>\\n\\n    <nav class=\"site-nav\">\\n      <a href=\"#\" class=\"menu-icon\">\\n        <svg viewBox=\"0 0 18 15\">\\n          <path fill=\"#424242\" d=\"M18,1.484c0,0.82-0.665,1.484-1.484,1.484H1.484C0.665,2.969,0,2.304,0,1.484l0,0C0,0.665,0.665,0,1.484,0 h15.031C17.335,0,18,0.665,18,1.484L18,1.484z\"/>\\n          <path fill=\"#424242\" d=\"M18,7.516C18,8.335,17.335,9,16.516,9H1.484C0.665,9,0,8.335,0,7.516l0,0c0-0.82,0.665-1.484,1.484-1.484 h15.031C17.335,6.031,18,6.696,18,7.516L18,7.516z\"/>\\n          <path fill=\"#424242\" d=\"M18,13.516C18,14.335,17.335,15,16.516,15H1.484C0.665,15,0,14.335,0,13.516l0,0 c0-0.82,0.665-1.484,1.484-1.484h15.031C17.335,12.031,18,12.696,18,13.516L18,13.516z\"/>\\n        </svg>\\n      </a>\\n\\n      <div class=\"trigger\">\\n        <a class=\"page-link\" href=\"/packages\">Packages</a>\\n        <a class=\"page-link\" href=\"/repos\">Repositories</a>\\n        <a class=\"page-link\" href=\"/search\">Search</a>\\n      </div>\\n    </nav>\\n    -->\\n\\n  </div>\\n  <script type=\"text/javascript\">\\n    $(\\'#top-searchbox\\').submit(function() {\\n        return $(\\'#top-searchbox input:text\\').filter(function() {\\n          return $(this).val() == \"\";\\n        }).length == 0;\\n    });\\n  </script>\\n</header>\\n\\n\\n    <div class=\"page-content\">\\n      <div class=\"wrapper\">\\n        <div class=\"container-fluid\" style=\"margin-top:20px\">\\n  <div class=\"container-fluid\">\\n    <div class=\"row\">\\n      <div class=\"well\" style=\"background-color: #EEE\">\\n        <div class=\"container-fluid\">\\n          <div class=\"row\">\\n            <div class=\"col-md-6\">\\n              <img width=320 src=\"/assets/404_icon.png\">\\n            </div>\\n            <div class=\"col-md-6\">\\n              <h1>This isn\\'t the page you\\'re looking for...</h1>\\n              <h2>Move along.</h2>\\n            </div>\\n          </div>\\n        </div>\\n      </div>\\n      <div class=\"container-fluid\">\\n        <div class=\"row\">\\n          <div class=\"col-xs-offset-3 col-xs-6 text-center\">\\n            Did you get here from a link on ROS Index?\\n          </div>\\n        </div>\\n        <div class=\"row\">\\n          &nbsp;\\n        </div>\\n        <div class=\"row\">\\n          <div class=\"col-xs-offset-3 col-xs-6 text-center\">\\n            <a target=\"_blank\" href=\"https://github.com/ros-infrastructure/rosindex/issues/new?title=Broken%20Link:%20\" class=\"btn btn-sm btn-default btn-block\">Report Broken Link</a>\\n          </div>\\n        </div>\\n        <div class=\"row\">\\n          &nbsp;\\n        </div>\\n      </div>\\n    </div>\\n  </div>\\n</div>\\n\\n<script>\\n$(function () {\\n    // TODO add url to the report button\\n  };)\\n</script>\\n\\n      </div>\\n    </div>\\n\\n    <footer class=\"site-footer\">\\n  <div class=\"wrapper\">\\n    <div class=\"container-fluid\">\\n      <div class=\"row\">\\n        <div class=\"col-sm-4 col-md-4\">\\n          \\n            <a href=\"https://github.com/ros-infrastructure/rosindex\" title=\"Find rosindex in Github\">\\n            <span class=\"icon  icon--github\">\\n              <svg viewBox=\"0 0 16 16\">\\n                <path fill=\"#828282\" d=\"M7.999,0.431c-4.285,0-7.76,3.474-7.76,7.761 c0,3.428,2.223,6.337,5.307,7.363c0.388,0.071,0.53-0.168,0.53-0.374c0-0.184-0.007-0.672-0.01-1.32 c-2.159,0.469-2.614-1.04-2.614-1.04c-0.353-0.896-0.862-1.135-0.862-1.135c-0.705-0.481,0.053-0.472,0.053-0.472 c0.779,0.055,1.189,0.8,1.189,0.8c0.692,1.186,1.816,0.843,2.258,0.645c0.071-0.502,0.271-0.843,0.493-1.037 C4.86,11.425,3.049,10.76,3.049,7.786c0-0.847,0.302-1.54,0.799-2.082C3.768,5.507,3.501,4.718,3.924,3.65 c0,0,0.652-0.209,2.134,0.796C6.677,4.273,7.34,4.187,8,4.184c0.659,0.003,1.323,0.089,1.943,0.261 c1.482-1.004,2.132-0.796,2.132-0.796c0.423,1.068,0.157,1.857,0.077,2.054c0.497,0.542,0.798,1.235,0.798,2.082 c0,2.981-1.814,3.637-3.543,3.829c0.279,0.24,0.527,0.713,0.527,1.437c0,1.037-0.01,1.874-0.01,2.129 c0,0.208,0.14,0.449,0.534,0.373c3.081-1.028,5.302-3.935,5.302-7.362C15.76,3.906,12.285,0.431,7.999,0.431z\"/>\\n              </svg>\\n            </span>\\n\\n            <span class=\"username\">ros-infrastructure/rosindex</span>\\n          </a>\\n          |\\n          <em>generated on 2023-05-23</em>\\n        \\n        </div>\\n        <div class=\"col-sm-8 col-md-8 text-right\">\\n          <p class=\"text\">a community-maintained index of robotics software\\n | <a href=\"/privacy.txt\">privacy</a></p>\\n        </div>\\n      </div>\\n    </div>\\n  </div>\\n\\n</footer>\\n\\n\\n  </body>\\n\\n</html>\\n'\n"
     ]
    }
   ],
   "source": [
    "data = {\n",
    "    'term': \"discover other ROS masters\"\n",
    "}\n",
    "url = 'http://127.0.0.1:4000/search/'\n",
    "# 发送POST请求，并传递数据\n",
    "response = requests.post(url, data=data)\n",
    "print(response.content)"
   ]
  },
  {
   "cell_type": "code",
   "execution_count": 6,
   "id": "4cad766b",
   "metadata": {},
   "outputs": [
    {
     "data": {
      "text/plain": [
       "False"
      ]
     },
     "execution_count": 6,
     "metadata": {},
     "output_type": "execute_result"
    }
   ],
   "source": [
    "html = requests.get('http://127.0.0.1:4000/search/?term=discover+other+ROS+masters&section=pkgs')\n",
    "# print(html.text)\n",
    "html2 = requests.get('http://127.0.0.1:4000/search/')\n",
    "# print(html2.text)\n",
    "html == html2\n",
    "# soup = BeautifulSoup(html.text, features='html.parser')"
   ]
  },
  {
   "cell_type": "code",
   "execution_count": null,
   "id": "28c8a043",
   "metadata": {},
   "outputs": [],
   "source": [
    "from bs4 import BeautifulSoup\n",
    "import csv\n",
    "\n",
    "html = open('/Users/wshuo/Desktop/data4KG/books-ckzz/robots.ros.org.html', encoding='utf-8')\n",
    "soup = BeautifulSoup(html, features='html.parser')\n",
    "\n",
    "csv_file = open('/Users/wshuo/Desktop/data4KG/robots.ros.org/robots.csv', 'w', encoding='UTF8', newline='')\n",
    "\n",
    "header = ['robotID', 'robotName', 'category', 'website', 'wiki', 'description', 'tags']\n",
    "writer = csv.writer(csv_file)\n",
    "writer.writerow(header)\n",
    "\n",
    "\n",
    "# //*[@id=\"grid\"]/article[1]\n",
    "#\n",
    "# /html/body/section/main/div/article[1]\n",
    "\n",
    "# print(soup.html.body.section.main.div.article)\n",
    "articles = soup.find_all('article', itemscope=\"itemscope\")\n",
    "# print(articles)\n",
    "count = 0\n",
    "for a in articles:\n",
    "    # / html / body / section / main / div / article[1] / div / a[1] / h2 / text()\n",
    "    count += 1\n",
    "    name = a.div.a.h2.string.lstrip()\n",
    "    print(name)\n",
    "    # / html / body / section / main / div / article[1] / div / div[1] / div[2] / ul[1] / li / a / span\n",
    "    category = a.find('div', {'class':'resources'})\n",
    "    if category != None:\n",
    "        category = category.find('a').span.string\n",
    "    print(category)\n",
    "    # / html / body / section / main / div / article[1] / div / div[1] / div[2] / ul[2] / li / a / text()\n",
    "    a_tag = a.find('div', {'class':'resources'})\n",
    "\n",
    "    website = ''\n",
    "    wiki = ''\n",
    "\n",
    "    if a_tag!= None:\n",
    "        a_tag = a_tag.find_all('a')\n",
    "\n",
    "        for tag in a_tag:\n",
    "            if tag.string == 'Website':\n",
    "                website = tag['href']\n",
    "                print(website)\n",
    "            elif tag.string == 'Wiki':\n",
    "                wiki = tag['href']\n",
    "                print(wiki)\n",
    "            else:\n",
    "                pass\n",
    "\n",
    "    description = a.find('p', {'class': 'description'}).string\n",
    "    print(description)\n",
    "    tag_labels = a.find('div', {'class': 'tags'}).find_all('a')\n",
    "    tags = []\n",
    "    for label in tag_labels:\n",
    "        tags.append(label.string)\n",
    "    print(tags)\n",
    "    tags_str = ','.join(tags)\n",
    "    print(tags_str)\n",
    "\n",
    "    data_row = [count, name, category, website, wiki, description, tags_str]\n",
    "    writer.writerow(data_row)\n",
    "\n",
    "csv_file.close()"
   ]
  },
  {
   "cell_type": "code",
   "execution_count": 2,
   "id": "55622168",
   "metadata": {},
   "outputs": [
    {
     "name": "stdout",
     "output_type": "stream",
     "text": [
      "{\"payload\":{\"header_redesign_enabled\":false,\"results\":[],\"type\":\"repositories\",\"page\":1,\"page_count\":0,\"elapsed_millis\":48,\"errors\":[],\"result_count\":0,\"facets\":[],\"protected_org_logins\":[],\"topics\":null,\"query_id\":\"\",\"logged_in\":false,\"sign_up_path\":\"/signup?source=code_search_results\",\"sign_in_path\":\"/login?return_to=https%3A%2F%2Fgithub.com%2Fsearch%3Fq%3Ddiscover%2520other%2520ROS%2520masters%26type%3Drepositories\",\"metadata\":null,\"csrf_tokens\":{\"/sponsors/batch_deferred_sponsor_buttons\":{\"post\":\"Q787PC1NkdSstGHcSLFEa3_GrXInnU3iGJXQtIwkJyMiQVJcwdMUE8nZ95eW909wB2Q7t2aZZyoAEkmFnnYtlg\"}}},\"title\":\"Repository search results\"}\n"
     ]
    }
   ],
   "source": [
    "html = requests.get('https://github.com/search?q=discover other ROS masters&type=repositories')\n",
    "print(html.text)"
   ]
  },
  {
   "cell_type": "code",
   "execution_count": null,
   "id": "e18c57c0",
   "metadata": {},
   "outputs": [],
   "source": []
  },
  {
   "cell_type": "code",
   "execution_count": null,
   "id": "425eb461",
   "metadata": {},
   "outputs": [],
   "source": []
  }
 ],
 "metadata": {
  "kernelspec": {
   "display_name": "Python 3 (ipykernel)",
   "language": "python",
   "name": "python3"
  },
  "language_info": {
   "codemirror_mode": {
    "name": "ipython",
    "version": 3
   },
   "file_extension": ".py",
   "mimetype": "text/x-python",
   "name": "python",
   "nbconvert_exporter": "python",
   "pygments_lexer": "ipython3",
   "version": "3.7.16"
  }
 },
 "nbformat": 4,
 "nbformat_minor": 5
}
