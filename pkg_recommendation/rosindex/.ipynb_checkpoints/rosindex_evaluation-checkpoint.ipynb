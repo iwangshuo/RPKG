{
 "cells": [
  {
   "cell_type": "code",
   "execution_count": 3,
   "id": "dcbbaf78",
   "metadata": {},
   "outputs": [],
   "source": [
    "from bs4 import BeautifulSoup\n",
    "import csv\n",
    "import requests"
   ]
  },
  {
   "cell_type": "code",
   "execution_count": null,
   "id": "546d1b92",
   "metadata": {},
   "outputs": [],
   "source": [
    "data = {\n",
    "    'term': \"discover other ROS masters\"\n",
    "}\n",
    "url = 'http://127.0.0.1:4000/search/'\n",
    "# 发送POST请求，并传递数据\n",
    "response = requests.post(url, data=data)\n",
    "print(response.content)"
   ]
  },
  {
   "cell_type": "code",
   "execution_count": 6,
   "id": "5d38e502",
   "metadata": {},
   "outputs": [
    {
     "data": {
      "text/plain": [
       "False"
      ]
     },
     "execution_count": 6,
     "metadata": {},
     "output_type": "execute_result"
    }
   ],
   "source": [
    "html = requests.get('http://127.0.0.1:4000/search/?term=discover+other+ROS+masters&section=pkgs')\n",
    "# print(html.text)\n",
    "html2 = requests.get('http://127.0.0.1:4000/search/')\n",
    "# print(html2.text)\n",
    "html == html2\n",
    "# soup = BeautifulSoup(html.text, features='html.parser')"
   ]
  },
  {
   "cell_type": "code",
   "execution_count": null,
   "id": "c888a967",
   "metadata": {},
   "outputs": [],
   "source": [
    "from bs4 import BeautifulSoup\n",
    "import csv\n",
    "\n",
    "html = open('/Users/wshuo/Desktop/data4KG/books-ckzz/robots.ros.org.html', encoding='utf-8')\n",
    "soup = BeautifulSoup(html, features='html.parser')\n",
    "\n",
    "csv_file = open('/Users/wshuo/Desktop/data4KG/robots.ros.org/robots.csv', 'w', encoding='UTF8', newline='')\n",
    "\n",
    "header = ['robotID', 'robotName', 'category', 'website', 'wiki', 'description', 'tags']\n",
    "writer = csv.writer(csv_file)\n",
    "writer.writerow(header)\n",
    "\n",
    "\n",
    "# //*[@id=\"grid\"]/article[1]\n",
    "#\n",
    "# /html/body/section/main/div/article[1]\n",
    "\n",
    "# print(soup.html.body.section.main.div.article)\n",
    "articles = soup.find_all('article', itemscope=\"itemscope\")\n",
    "# print(articles)\n",
    "count = 0\n",
    "for a in articles:\n",
    "    # / html / body / section / main / div / article[1] / div / a[1] / h2 / text()\n",
    "    count += 1\n",
    "    name = a.div.a.h2.string.lstrip()\n",
    "    print(name)\n",
    "    # / html / body / section / main / div / article[1] / div / div[1] / div[2] / ul[1] / li / a / span\n",
    "    category = a.find('div', {'class':'resources'})\n",
    "    if category != None:\n",
    "        category = category.find('a').span.string\n",
    "    print(category)\n",
    "    # / html / body / section / main / div / article[1] / div / div[1] / div[2] / ul[2] / li / a / text()\n",
    "    a_tag = a.find('div', {'class':'resources'})\n",
    "\n",
    "    website = ''\n",
    "    wiki = ''\n",
    "\n",
    "    if a_tag!= None:\n",
    "        a_tag = a_tag.find_all('a')\n",
    "\n",
    "        for tag in a_tag:\n",
    "            if tag.string == 'Website':\n",
    "                website = tag['href']\n",
    "                print(website)\n",
    "            elif tag.string == 'Wiki':\n",
    "                wiki = tag['href']\n",
    "                print(wiki)\n",
    "            else:\n",
    "                pass\n",
    "\n",
    "    description = a.find('p', {'class': 'description'}).string\n",
    "    print(description)\n",
    "    tag_labels = a.find('div', {'class': 'tags'}).find_all('a')\n",
    "    tags = []\n",
    "    for label in tag_labels:\n",
    "        tags.append(label.string)\n",
    "    print(tags)\n",
    "    tags_str = ','.join(tags)\n",
    "    print(tags_str)\n",
    "\n",
    "    data_row = [count, name, category, website, wiki, description, tags_str]\n",
    "    writer.writerow(data_row)\n",
    "\n",
    "csv_file.close()"
   ]
  }
 ],
 "metadata": {
  "kernelspec": {
   "display_name": "Python 3 (ipykernel)",
   "language": "python",
   "name": "python3"
  },
  "language_info": {
   "codemirror_mode": {
    "name": "ipython",
    "version": 3
   },
   "file_extension": ".py",
   "mimetype": "text/x-python",
   "name": "python",
   "nbconvert_exporter": "python",
   "pygments_lexer": "ipython3",
   "version": "3.7.16"
  }
 },
 "nbformat": 4,
 "nbformat_minor": 5
}
