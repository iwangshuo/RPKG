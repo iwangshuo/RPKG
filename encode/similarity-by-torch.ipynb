{
 "cells": [
  {
   "cell_type": "markdown",
   "id": "38c94968",
   "metadata": {},
   "source": [
    "### Bert-base raw model"
   ]
  },
  {
   "cell_type": "code",
   "execution_count": 15,
   "id": "2721d899",
   "metadata": {},
   "outputs": [],
   "source": [
    "\n",
    "import pandas as pd\n",
    "import numpy as np\n",
    "import torch\n",
    "import transformers\n",
    "\n",
    "from transformers import BertForMaskedLM\n",
    "from transformers import BertTokenizer\n",
    "from transformers import BertModel"
   ]
  },
  {
   "cell_type": "code",
   "execution_count": 16,
   "id": "bca963aa",
   "metadata": {},
   "outputs": [],
   "source": [
    "# HYPERPARAMS\n",
    "SEED_SPLIT = 0\n",
    "SEED_TRAIN = 0\n",
    "\n",
    "MAX_SEQ_LEN = 128\n",
    "TRAIN_BATCH_SIZE = 64\n",
    "EVAL_BATCH_SIZE = 64\n",
    "LEARNING_RATE = 2e-5 \n",
    "LR_WARMUP_STEPS = 100\n",
    "WEIGHT_DECAY = 0.01"
   ]
  },
  {
   "cell_type": "code",
   "execution_count": 17,
   "id": "868f58ee",
   "metadata": {},
   "outputs": [
    {
     "name": "stderr",
     "output_type": "stream",
     "text": [
      "Some weights of the model checkpoint at ./model were not used when initializing BertModel: ['cls.predictions.transform.dense.weight', 'cls.predictions.transform.LayerNorm.bias', 'cls.predictions.decoder.weight', 'cls.predictions.transform.dense.bias', 'cls.predictions.decoder.bias', 'cls.predictions.bias', 'cls.predictions.transform.LayerNorm.weight']\n",
      "- This IS expected if you are initializing BertModel from the checkpoint of a model trained on another task or with another architecture (e.g. initializing a BertForSequenceClassification model from a BertForPreTraining model).\n",
      "- This IS NOT expected if you are initializing BertModel from the checkpoint of a model that you expect to be exactly identical (initializing a BertForSequenceClassification model from a BertForSequenceClassification model).\n",
      "Some weights of BertModel were not initialized from the model checkpoint at ./model and are newly initialized: ['bert.pooler.dense.bias', 'bert.pooler.dense.weight']\n",
      "You should probably TRAIN this model on a down-stream task to be able to use it for predictions and inference.\n"
     ]
    },
    {
     "name": "stdout",
     "output_type": "stream",
     "text": [
      "31370\n"
     ]
    }
   ],
   "source": [
    "MODEL = 'bert'\n",
    "bert_type = 'bert-base-uncased'\n",
    "TokenizerClass = BertTokenizer\n",
    "# ModelClass = BertForMaskedLM \n",
    "ModelClass = BertModel \n",
    "\n",
    "\n",
    "\n",
    "# tokenizer = TokenizerClass.from_pretrained(\n",
    "#             bert_type, use_fast=True, do_lower_case=False, max_len=MAX_SEQ_LEN\n",
    "#             )\n",
    "# model = ModelClass.from_pretrained(bert_type)\n",
    "\n",
    "\n",
    "tokenizer = TokenizerClass.from_pretrained(\n",
    "            './model', use_fast=True, do_lower_case=False, max_len=MAX_SEQ_LEN\n",
    "            )\n",
    "model = ModelClass.from_pretrained('./model')\n",
    "\n",
    "\n",
    "model.eval()\n",
    "print(len(tokenizer))\n",
    "\n",
    "# tokenizer = BertTokenizer.from_pretrained('data/cased_L-12_H-768_A-12') #改为自己存放模型的目录\n",
    "# model = BertModel.from_pretrained('data/cased_L-12_H-768_A-12')"
   ]
  },
  {
   "cell_type": "code",
   "execution_count": 18,
   "id": "d217527a",
   "metadata": {},
   "outputs": [],
   "source": [
    "\n",
    "vocab = open('./model/vocab.txt', 'r')\n",
    "vocab_wds = [line.strip('\\n') for line in vocab]\n",
    "\n",
    "def encode_phrase(phrase):\n",
    "#     phrase = \"Your English phrase goes here.\"\n",
    "    tokens = tokenizer.encode_plus(phrase, add_special_tokens=True, return_tensors='pt')\n",
    "#     print(tokens['input_ids'])\n",
    "    ids = tokens['input_ids'].numpy().tolist()\n",
    "    id_char = \"\"\n",
    "    for i in ids[0]:\n",
    "        if i>= len(vocab_wds):\n",
    "            id_char += \"{0}({1}), \".format(i, \"@@@\")\n",
    "        else:\n",
    "            id_char += \"{0}({1}), \".format(i, vocab_wds[i])\n",
    "#     print(id_char)\n",
    "    with torch.no_grad():\n",
    "        outputs = model(tokens['input_ids'], tokens['attention_mask'])\n",
    "        phrase_vector = outputs.last_hidden_state.mean(dim=1).squeeze()\n",
    "    return phrase_vector\n",
    "\n",
    "    \n",
    "# print(phrase_vector.shape)"
   ]
  },
  {
   "cell_type": "code",
   "execution_count": 19,
   "id": "b341cf18",
   "metadata": {
    "scrolled": true
   },
   "outputs": [],
   "source": [
    "vec = encode_phrase(\"rplidar\")\n",
    "# print(vec)"
   ]
  },
  {
   "cell_type": "code",
   "execution_count": 20,
   "id": "03151f57",
   "metadata": {},
   "outputs": [],
   "source": [
    "def cos_similar(sen_a_vec, sen_b_vec):\n",
    "    vector_a = np.mat(sen_a_vec)\n",
    "    vector_b = np.mat(sen_b_vec)\n",
    "    num = float(vector_a*vector_b.T)\n",
    "    denom = np.linalg.norm(vector_a) * np.linalg.norm(vector_b)\n",
    "    cos = num/denom\n",
    "    return cos\n"
   ]
  },
  {
   "cell_type": "code",
   "execution_count": 21,
   "id": "e21b5e7d",
   "metadata": {},
   "outputs": [],
   "source": [
    "def embedding_similarity(p1,p2):\n",
    "    v1 = encode_phrase(p1)\n",
    "    v2 = encode_phrase(p2)\n",
    "    sim = cos_similar(v1, v2)\n",
    "    return sim"
   ]
  },
  {
   "cell_type": "code",
   "execution_count": 26,
   "id": "db5544b1",
   "metadata": {},
   "outputs": [
    {
     "name": "stdout",
     "output_type": "stream",
     "text": [
      "0.8037486679493062\n",
      "0.8525486070707025\n",
      "0.9539678352596432\n",
      "0.9539678352596432\n",
      "0.9361038749221334\n",
      "0.9148580807619587\n"
     ]
    }
   ],
   "source": [
    "s1 = \"bringup rplidar\"\n",
    "# s2 = \"The rplidar ros package support rplidar A2/A1\"\n",
    "s2 = \"start rplidar\"\n",
    "# tensor([[  101,   100,  1054, 24759,  8524(##ida),  2099, 20996,  2015,  7427,  2490,\n",
    "#           1054, 24759,  8524,  2099,   100,  1013,   100,   102]])\n",
    "print(embedding_similarity(s1, s2))\n",
    "s2 = \"rospeex\"\n",
    "print(embedding_similarity(s1, s2))\n",
    "s1 = \"turtlebot\"\n",
    "s2 = \"turtlebot2\"\n",
    "s3 = \"turtlebot3\"\n",
    "print(embedding_similarity(s1, s2))\n",
    "print(embedding_similarity(s2, s1))\n",
    "print(embedding_similarity(s1, s3))\n",
    "print(embedding_similarity(s2, s3))"
   ]
  },
  {
   "cell_type": "code",
   "execution_count": 29,
   "id": "564ddad6",
   "metadata": {},
   "outputs": [
    {
     "name": "stdout",
     "output_type": "stream",
     "text": [
      "1.000000101597313\n",
      "0.5860748703037677\n"
     ]
    }
   ],
   "source": [
    "s1 = \"rplidar\"\n",
    "# s2 = \"The rplidar ros package support rplidar A2/A1\"\n",
    "s2 = \"rplidar\"\n",
    "# tensor([[  101,   100,  1054, 24759,  8524(##ida),  2099, 20996,  2015,  7427,  2490,\n",
    "#           1054, 24759,  8524,  2099,   100,  1013,   100,   102]])\n",
    "print(embedding_similarity(s1, s2))\n",
    "\n",
    "\n",
    "# s2 = \"The rplidar ros package support rplidar A2/A1\"\n",
    "s2 = \"start rplidar sensor\"\n",
    "\n",
    "print(embedding_similarity(s1, s2))\n",
    "\n"
   ]
  },
  {
   "cell_type": "code",
   "execution_count": null,
   "id": "c48b3a59",
   "metadata": {},
   "outputs": [],
   "source": []
  }
 ],
 "metadata": {
  "kernelspec": {
   "display_name": "Python 3 (ipykernel)",
   "language": "python",
   "name": "python3"
  },
  "language_info": {
   "codemirror_mode": {
    "name": "ipython",
    "version": 3
   },
   "file_extension": ".py",
   "mimetype": "text/x-python",
   "name": "python",
   "nbconvert_exporter": "python",
   "pygments_lexer": "ipython3",
   "version": "3.7.16"
  }
 },
 "nbformat": 4,
 "nbformat_minor": 5
}
